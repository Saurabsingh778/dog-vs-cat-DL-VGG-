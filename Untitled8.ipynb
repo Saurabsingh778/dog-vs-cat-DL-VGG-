{
  "cells": [
    {
      "cell_type": "code",
      "execution_count": 2,
      "metadata": {
        "id": "wcAZv_0TQozv"
      },
      "outputs": [],
      "source": [
        "!mkdir -p ~/.kaggle\n",
        "!cp kaggle.json ~/.kaggle/"
      ]
    },
    {
      "cell_type": "code",
      "execution_count": 3,
      "metadata": {
        "colab": {
          "base_uri": "https://localhost:8080/"
        },
        "id": "VCYxqSstRKHW",
        "outputId": "902128ff-22f3-4fe3-d68d-bf39a9432890"
      },
      "outputs": [
        {
          "output_type": "stream",
          "name": "stdout",
          "text": [
            "Warning: Your Kaggle API key is readable by other users on this system! To fix this, you can run 'chmod 600 /root/.kaggle/kaggle.json'\n",
            "Downloading dogs-vs-cats.zip to /content\n",
            " 99% 1.06G/1.06G [00:10<00:00, 29.6MB/s]\n",
            "100% 1.06G/1.06G [00:10<00:00, 108MB/s] \n"
          ]
        }
      ],
      "source": [
        "!kaggle datasets download -d salader/dogs-vs-cats"
      ]
    },
    {
      "cell_type": "code",
      "execution_count": 4,
      "metadata": {
        "id": "rbkO6Q_QRUcw"
      },
      "outputs": [],
      "source": [
        "import zipfile\n",
        "zip = zipfile.ZipFile('/content/dogs-vs-cats.zip', 'r')\n",
        "zip.extractall('/content')\n",
        "zip.close()"
      ]
    },
    {
      "cell_type": "code",
      "execution_count": 5,
      "metadata": {
        "id": "UN2UmAXFRsmU"
      },
      "outputs": [],
      "source": [
        "import tensorflow as tf\n",
        "from tensorflow import keras"
      ]
    },
    {
      "cell_type": "code",
      "execution_count": 6,
      "metadata": {
        "colab": {
          "base_uri": "https://localhost:8080/"
        },
        "id": "aBRlE5QISw9y",
        "outputId": "96b616d0-5980-415c-868f-2bfdb72d71ef"
      },
      "outputs": [
        {
          "output_type": "stream",
          "name": "stdout",
          "text": [
            "Found 20000 files belonging to 2 classes.\n",
            "Found 5000 files belonging to 2 classes.\n"
          ]
        }
      ],
      "source": [
        "train_ds = keras.utils.image_dataset_from_directory(\n",
        "    directory = '/content/train',\n",
        "    labels='inferred',\n",
        "    label_mode = 'int',\n",
        "    batch_size=32,\n",
        "    image_size=(256,256)\n",
        ")\n",
        "\n",
        "validation_ds = keras.utils.image_dataset_from_directory(\n",
        "    directory = '/content/test',\n",
        "    labels='inferred',\n",
        "    label_mode = 'int',\n",
        "    batch_size=32,\n",
        "    image_size=(256,256)\n",
        ")\n"
      ]
    },
    {
      "cell_type": "code",
      "execution_count": 7,
      "metadata": {
        "id": "T14psQKpZF_L"
      },
      "outputs": [],
      "source": [
        "def process(img,label):\n",
        "    img = tf.cast(img/255,tf.float32)\n",
        "    return img, label\n",
        "\n",
        "train_ds = train_ds.map(process)\n",
        "validation_ds = validation_ds.map(process)\n"
      ]
    },
    {
      "cell_type": "code",
      "execution_count": 8,
      "metadata": {
        "id": "a_SdjqHcT5Zx"
      },
      "outputs": [],
      "source": [
        "from keras import Sequential\n",
        "from tensorflow.keras.layers import Conv2D, MaxPooling2D, Flatten, Dense,BatchNormalization, Dropout"
      ]
    },
    {
      "cell_type": "code",
      "execution_count": 9,
      "metadata": {
        "id": "LqZDnlz1UGR6"
      },
      "outputs": [],
      "source": [
        "model = Sequential()\n",
        "# layer 1\n",
        "model.add(Conv2D(32, kernel_size= (3,3),padding = 'valid', activation ='relu', input_shape= (256,256,3) ))\n",
        "model.add(BatchNormalization())\n",
        "model.add(MaxPooling2D(pool_size= (2,2), strides = 2, padding = 'valid'))\n",
        "\n",
        "# layer 2\n",
        "model.add(Conv2D(64, kernel_size= (3,3),padding = 'valid', activation ='relu'))\n",
        "model.add(BatchNormalization())\n",
        "model.add(MaxPooling2D(pool_size= (2,2), strides = 2, padding = 'valid'))\n",
        "\n",
        "# layer 3\n",
        "model.add(Conv2D(128, kernel_size= (3,3),padding = 'valid', activation ='relu' ))\n",
        "model.add(BatchNormalization())\n",
        "model.add(MaxPooling2D(pool_size= (2,2), strides = 2, padding = 'valid'))\n",
        "\n",
        "# layer 4\n",
        "model.add(Conv2D(256, kernel_size= (3,3),padding = 'valid', activation ='relu' ))\n",
        "model.add(BatchNormalization())\n",
        "model.add(MaxPooling2D(pool_size= (2,2), strides = 2, padding = 'valid'))\n",
        "\n",
        "# layer 5\n",
        "model.add(Conv2D(512, kernel_size= (3,3),padding = 'valid', activation ='relu' ))\n",
        "model.add(BatchNormalization())\n",
        "model.add(MaxPooling2D(pool_size= (2,2), strides = 2, padding = 'valid'))\n",
        "\n",
        "# layer 6\n",
        "model.add(Conv2D(1024, kernel_size= (3,3),padding = 'valid', activation ='relu' ))\n",
        "model.add(BatchNormalization())\n",
        "model.add(MaxPooling2D(pool_size= (2,2), strides = 2, padding = 'valid'))\n",
        "\n",
        "# flatten layer\n",
        "model.add(Flatten())\n",
        "model.add(Dense(1024,activation ='relu'))\n",
        "model.add(Dropout(0.3))\n",
        "model.add(Dense(512,activation ='relu'))\n",
        "model.add(Dropout(0.1))\n",
        "model.add(Dense(256,activation ='relu'))\n",
        "model.add(Dropout(0.1))\n",
        "model.add(Dense(128,activation ='relu'))\n",
        "model.add(Dropout(0.4))\n",
        "model.add(Dense(64,activation ='relu'))\n",
        "model.add(Dropout(0.1))\n",
        "model.add(Dense(1,activation ='sigmoid'))"
      ]
    },
    {
      "cell_type": "code",
      "execution_count": 10,
      "metadata": {
        "id": "wZYPR8nhUQQf"
      },
      "outputs": [],
      "source": [
        "model.compile(optimizer='adam', loss = 'binary_crossentropy',metrics = ['accuracy'])"
      ]
    },
    {
      "cell_type": "code",
      "execution_count": 11,
      "metadata": {
        "colab": {
          "base_uri": "https://localhost:8080/"
        },
        "id": "p5FlEFLmUX3-",
        "outputId": "484c0db5-f867-4d97-e547-92f03b3d3f1b"
      },
      "outputs": [
        {
          "output_type": "stream",
          "name": "stdout",
          "text": [
            "Epoch 1/10\n",
            "625/625 [==============================] - 92s 125ms/step - loss: 0.6670 - accuracy: 0.6345 - val_loss: 0.5877 - val_accuracy: 0.6878\n",
            "Epoch 2/10\n",
            "625/625 [==============================] - 77s 123ms/step - loss: 0.4837 - accuracy: 0.7797 - val_loss: 0.4340 - val_accuracy: 0.7924\n",
            "Epoch 3/10\n",
            "625/625 [==============================] - 79s 126ms/step - loss: 0.3197 - accuracy: 0.8654 - val_loss: 0.3188 - val_accuracy: 0.8766\n",
            "Epoch 4/10\n",
            "625/625 [==============================] - 76s 121ms/step - loss: 0.2218 - accuracy: 0.9129 - val_loss: 0.2210 - val_accuracy: 0.9064\n",
            "Epoch 5/10\n",
            "625/625 [==============================] - 76s 121ms/step - loss: 0.1685 - accuracy: 0.9330 - val_loss: 0.2707 - val_accuracy: 0.8802\n",
            "Epoch 6/10\n",
            "625/625 [==============================] - 75s 120ms/step - loss: 0.1349 - accuracy: 0.9476 - val_loss: 0.1568 - val_accuracy: 0.9384\n",
            "Epoch 7/10\n",
            "625/625 [==============================] - 78s 124ms/step - loss: 0.1024 - accuracy: 0.9617 - val_loss: 0.2032 - val_accuracy: 0.9170\n",
            "Epoch 8/10\n",
            "625/625 [==============================] - 76s 121ms/step - loss: 0.0894 - accuracy: 0.9686 - val_loss: 0.1685 - val_accuracy: 0.9376\n",
            "Epoch 9/10\n",
            "625/625 [==============================] - 78s 125ms/step - loss: 0.0707 - accuracy: 0.9743 - val_loss: 0.1747 - val_accuracy: 0.9320\n",
            "Epoch 10/10\n",
            "625/625 [==============================] - 78s 124ms/step - loss: 0.0610 - accuracy: 0.9790 - val_loss: 0.2000 - val_accuracy: 0.9170\n"
          ]
        }
      ],
      "source": [
        "history = model.fit(train_ds,epochs = 10,validation_data=validation_ds)"
      ]
    },
    {
      "cell_type": "code",
      "execution_count": 14,
      "metadata": {
        "id": "4TW5rxs8V2Vw"
      },
      "outputs": [],
      "source": [
        "import pickle\n",
        "with open('model.pkl', 'wb') as file:\n",
        "    pickle.dump(model, file)\n"
      ]
    },
    {
      "cell_type": "code",
      "source": [],
      "metadata": {
        "id": "hsruyj2aj7MM"
      },
      "execution_count": null,
      "outputs": []
    }
  ],
  "metadata": {
    "accelerator": "GPU",
    "colab": {
      "gpuType": "T4",
      "provenance": []
    },
    "kernelspec": {
      "display_name": "Python 3",
      "name": "python3"
    },
    "language_info": {
      "name": "python"
    }
  },
  "nbformat": 4,
  "nbformat_minor": 0
}